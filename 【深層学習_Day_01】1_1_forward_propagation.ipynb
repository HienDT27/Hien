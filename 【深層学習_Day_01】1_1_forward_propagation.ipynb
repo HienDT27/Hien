{
  "nbformat": 4,
  "nbformat_minor": 0,
  "metadata": {
    "kernelspec": {
      "display_name": "Python 3",
      "language": "python",
      "name": "python3"
    },
    "language_info": {
      "codemirror_mode": {
        "name": "ipython",
        "version": 3
      },
      "file_extension": ".py",
      "mimetype": "text/x-python",
      "name": "python",
      "nbconvert_exporter": "python",
      "pygments_lexer": "ipython3",
      "version": "3.6.3"
    },
    "colab": {
      "name": "【深層学習_Day 01】1_1_forward_propagation.ipynb",
      "provenance": [],
      "collapsed_sections": [],
      "toc_visible": true,
      "include_colab_link": true
    }
  },
  "cells": [
    {
      "cell_type": "markdown",
      "metadata": {
        "id": "view-in-github",
        "colab_type": "text"
      },
      "source": [
        "<a href=\"https://colab.research.google.com/github/HienDT27/Rabbit-Challenge/blob/master/%E3%80%90%E6%B7%B1%E5%B1%A4%E5%AD%A6%E7%BF%92_Day_01%E3%80%911_1_forward_propagation.ipynb\" target=\"_parent\"><img src=\"https://colab.research.google.com/assets/colab-badge.svg\" alt=\"Open In Colab\"/></a>"
      ]
    },
    {
      "cell_type": "markdown",
      "metadata": {
        "id": "8cNl2QA_Rnv5",
        "colab_type": "text"
      },
      "source": [
        "# 準備"
      ]
    },
    {
      "cell_type": "markdown",
      "metadata": {
        "id": "YkwjN1jNVAYy",
        "colab_type": "text"
      },
      "source": [
        "## Googleドライブのマウント"
      ]
    },
    {
      "cell_type": "code",
      "metadata": {
        "id": "pvFXpiH3EVC1",
        "colab_type": "code",
        "outputId": "53c10d95-3986-4a7a-924b-cc7872b4afde",
        "colab": {
          "base_uri": "https://localhost:8080/",
          "height": 122
        }
      },
      "source": [
        "from google.colab import drive\n",
        "drive.mount('/content/drive')"
      ],
      "execution_count": 0,
      "outputs": [
        {
          "output_type": "stream",
          "text": [
            "Go to this URL in a browser: https://accounts.google.com/o/oauth2/auth?client_id=947318989803-6bn6qk8qdgf4n4g3pfee6491hc0brc4i.apps.googleusercontent.com&redirect_uri=urn%3aietf%3awg%3aoauth%3a2.0%3aoob&response_type=code&scope=email%20https%3a%2f%2fwww.googleapis.com%2fauth%2fdocs.test%20https%3a%2f%2fwww.googleapis.com%2fauth%2fdrive%20https%3a%2f%2fwww.googleapis.com%2fauth%2fdrive.photos.readonly%20https%3a%2f%2fwww.googleapis.com%2fauth%2fpeopleapi.readonly\n",
            "\n",
            "Enter your authorization code:\n",
            "··········\n",
            "Mounted at /content/drive\n"
          ],
          "name": "stdout"
        }
      ]
    },
    {
      "cell_type": "markdown",
      "metadata": {
        "id": "3Ub7RYdeY6pK",
        "colab_type": "text"
      },
      "source": [
        "## sys.pathの設定"
      ]
    },
    {
      "cell_type": "markdown",
      "metadata": {
        "id": "oql7L19rEsWi",
        "colab_type": "text"
      },
      "source": [
        "以下では，Googleドライブのマイドライブ直下にDNN_codeフォルダを置くことを仮定しています．必要に応じて，パスを変更してください．"
      ]
    },
    {
      "cell_type": "code",
      "metadata": {
        "id": "7Ic2JzkvFX59",
        "colab_type": "code",
        "colab": {}
      },
      "source": [
        "import sys\n",
        "sys.path.append('/content/drive/My Drive/【E資格】深層学習/DNN_code')"
      ],
      "execution_count": 0,
      "outputs": []
    },
    {
      "cell_type": "markdown",
      "metadata": {
        "id": "k5L0AWliZYng",
        "colab_type": "text"
      },
      "source": [
        "# importと関数定義"
      ]
    },
    {
      "cell_type": "code",
      "metadata": {
        "id": "R-FDEiMPe3eE",
        "colab_type": "code",
        "colab": {}
      },
      "source": [
        "import numpy as np\n",
        "from common import functions\n",
        "\n",
        "def print_vec(text, vec):\n",
        "    print(\"*** \" + text + \" ***\")\n",
        "    print(vec)\n",
        "    #print(\"shape: \" + str(x.shape))\n",
        "    print(\"\")\n"
      ],
      "execution_count": 0,
      "outputs": []
    },
    {
      "cell_type": "markdown",
      "metadata": {
        "id": "uqIgpdkPe5yR",
        "colab_type": "text"
      },
      "source": [
        "# 順伝播（単層・単ユニット）"
      ]
    },
    {
      "cell_type": "code",
      "metadata": {
        "scrolled": true,
        "id": "5nwFXP3le3eJ",
        "colab_type": "code",
        "outputId": "83c7f401-a28a-4c43-dd9c-8ddca66a703e",
        "colab": {
          "base_uri": "https://localhost:8080/",
          "height": 272
        }
      },
      "source": [
        "# 順伝播（単層・単ユニット）\n",
        "\n",
        "# 重み\n",
        "#W = np.array([[0.1], [0.2]])\n",
        "\n",
        "## 試してみよう_配列の初期化\n",
        "#W = np.zeros(2)\n",
        "#W = np.ones(2)\n",
        "W = np.random.rand(2)\n",
        "#W = np.random.randint(5, size=(2))\n",
        "\n",
        "print_vec(\"重み\", W)\n",
        "\n",
        "\n",
        "# バイアス\n",
        "#b = 0.5\n",
        "\n",
        "## 試してみよう_数値の初期化\n",
        "#b = np.random.rand() # 0~1のランダム数値\n",
        "b = np.random.rand() * 10 -5  # -5~5のランダム数値\n",
        "\n",
        "print_vec(\"バイアス\", b)\n",
        "\n",
        "# 入力値\n",
        "x = np.array([2, 3])\n",
        "print_vec(\"入力\", x)\n",
        "\n",
        "\n",
        "# 総入力\n",
        "u = np.dot(x, W) + b\n",
        "print_vec(\"総入力\", u)\n",
        "\n",
        "# 中間層出力\n",
        "z = functions.relu(u)\n",
        "print_vec(\"中間層出力\", z)\n"
      ],
      "execution_count": 0,
      "outputs": [
        {
          "output_type": "stream",
          "text": [
            "*** 重み ***\n",
            "[0.84960599 0.28849397]\n",
            "\n",
            "*** バイアス ***\n",
            "0.4298243158080748\n",
            "\n",
            "*** 入力 ***\n",
            "[2 3]\n",
            "\n",
            "*** 総入力 ***\n",
            "2.994518207300363\n",
            "\n",
            "*** 中間層出力 ***\n",
            "2.994518207300363\n",
            "\n"
          ],
          "name": "stdout"
        }
      ]
    },
    {
      "cell_type": "markdown",
      "metadata": {
        "id": "FpOvW2Ple-zS",
        "colab_type": "text"
      },
      "source": [
        "# 順伝播（単層・複数ユニット）\n"
      ]
    },
    {
      "cell_type": "code",
      "metadata": {
        "id": "kUxj9ZGWe3eL",
        "colab_type": "code",
        "outputId": "edf7489a-a990-4e24-a7e7-47f5d11fe3fc",
        "colab": {
          "base_uri": "https://localhost:8080/",
          "height": 323
        }
      },
      "source": [
        "# 順伝播（単層・複数ユニット）\n",
        "\n",
        "# 重み\n",
        "#W = np.array([\n",
        " #   [0.1, 0.2, 0.3], \n",
        " #   [0.2, 0.3, 0.4], \n",
        " #   [0.3, 0.4, 0.5],\n",
        "  #  [0.4, 0.5, 0.6]])\n",
        "\n",
        "## 試してみよう_配列の初期化\n",
        "#W = np.zeros((4,3))\n",
        "#W = np.ones((4,3))\n",
        "W = np.random.rand(4,3)\n",
        "#W = np.random.randint(5, size=(4,3))\n",
        "\n",
        "print_vec(\"重み\", W)\n",
        "\n",
        "# バイアス\n",
        "b = np.array([0.1, 0.2, 0.3])\n",
        "print_vec(\"バイアス\", b)\n",
        "\n",
        "# 入力値\n",
        "x = np.array([1.0, 5.0, 2.0, -1.0])\n",
        "print_vec(\"入力\", x)\n",
        "\n",
        "\n",
        "#  総入力\n",
        "u = np.dot(x, W) + b\n",
        "print_vec(\"総入力\", u)\n",
        "\n",
        "# 中間層出力\n",
        "z = functions.sigmoid(u)\n",
        "print_vec(\"中間層出力\", z)\n"
      ],
      "execution_count": 0,
      "outputs": [
        {
          "output_type": "stream",
          "text": [
            "*** 重み ***\n",
            "[[0.84641971 0.82891003 0.90157799]\n",
            " [0.50703954 0.07977436 0.33528457]\n",
            " [0.16977351 0.96974574 0.57825391]\n",
            " [0.29362243 0.0011078  0.55226577]]\n",
            "\n",
            "*** バイアス ***\n",
            "[0.1 0.2 0.3]\n",
            "\n",
            "*** 入力 ***\n",
            "[ 1.  5.  2. -1.]\n",
            "\n",
            "*** 総入力 ***\n",
            "[3.527542   3.36616549 3.4822429 ]\n",
            "\n",
            "*** 中間層出力 ***\n",
            "[0.97146135 0.96663023 0.97017828]\n",
            "\n"
          ],
          "name": "stdout"
        }
      ]
    },
    {
      "cell_type": "markdown",
      "metadata": {
        "id": "75hN-MtofBBE",
        "colab_type": "text"
      },
      "source": [
        "# 順伝播（3層・複数ユニット）"
      ]
    },
    {
      "cell_type": "code",
      "metadata": {
        "id": "SrWWI-XXe3eO",
        "colab_type": "code",
        "outputId": "5eb0080a-d497-4386-d199-6c6f91904162",
        "colab": {
          "base_uri": "https://localhost:8080/",
          "height": 697
        }
      },
      "source": [
        "# 順伝播（3層・複数ユニット）\n",
        "\n",
        "# ウェイトとバイアスを設定\n",
        "# ネートワークを作成\n",
        "def init_network():\n",
        "    print(\"##### ネットワークの初期化 #####\")\n",
        "    network = {}\n",
        "    \n",
        "    #試してみよう\n",
        "    #_各パラメータのshapeを表示\n",
        "    #_ネットワークの初期値ランダム生成\n",
        "    \n",
        "    network['W1'] = np.array([\n",
        "        [0.1, 0.3, 0.5],\n",
        "        [0.2, 0.4, 0.6]\n",
        "    ])\n",
        "    network['W2'] = np.array([\n",
        "        [0.1, 0.4],\n",
        "        [0.2, 0.5],\n",
        "        [0.3, 0.6]\n",
        "    ])\n",
        "    network['W3'] = np.array([\n",
        "        [0.1, 0.3],\n",
        "        [0.2, 0.4]\n",
        "    ])\n",
        "    network['b1'] = np.array([0.1, 0.2, 0.3])\n",
        "    network['b2'] = np.array([0.1, 0.2])\n",
        "    network['b3'] = np.array([1, 2])\n",
        "\n",
        "    print_vec(\"重み1\", network['W1'] )\n",
        "    print_vec(\"重み2\", network['W2'] )\n",
        "    print_vec(\"重み3\", network['W3'] )\n",
        "    print_vec(\"バイアス1\", network['b1'] )\n",
        "    print_vec(\"バイアス2\", network['b2'] )\n",
        "    print_vec(\"バイアス3\", network['b3'] )\n",
        "\n",
        "    return network\n",
        "\n",
        "# プロセスを作成\n",
        "# x：入力値\n",
        "def forward(network, x):\n",
        "    \n",
        "    print(\"##### 順伝播開始 #####\")\n",
        "\n",
        "    W1, W2, W3 = network['W1'], network['W2'], network['W3']\n",
        "    b1, b2, b3 = network['b1'], network['b2'], network['b3']\n",
        "    \n",
        "    # 1層の総入力\n",
        "    u1 = np.dot(x, W1) + b1\n",
        "    \n",
        "    # 1層の総出力\n",
        "    z1 = functions.relu(u1)\n",
        "    \n",
        "    # 2層の総入力\n",
        "    u2 = np.dot(z1, W2) + b2\n",
        "    \n",
        "    # 2層の総出力\n",
        "    z2 = functions.relu(u2)\n",
        "\n",
        "    # 出力層の総入力\n",
        "    u3 = np.dot(z2, W3) + b3\n",
        "    \n",
        "    # 出力層の総出力\n",
        "    y = u3\n",
        "    \n",
        "    print_vec(\"総入力1\", u1)\n",
        "    print_vec(\"中間層出力1\", z1)\n",
        "    print_vec(\"総入力2\", u2)\n",
        "    print_vec(\"出力1\", z1)\n",
        "    print(\"出力合計: \" + str(np.sum(z1)))\n",
        "\n",
        "    return y, z1, z2\n",
        "\n",
        "# 入力値\n",
        "x = np.array([1., 2.])\n",
        "print_vec(\"入力\", x)\n",
        "\n",
        "# ネットワークの初期化\n",
        "network =  init_network()\n",
        "\n",
        "y, z1, z2 = forward(network, x)"
      ],
      "execution_count": 0,
      "outputs": [
        {
          "output_type": "stream",
          "text": [
            "*** 入力 ***\n",
            "[1. 2.]\n",
            "\n",
            "##### ネットワークの初期化 #####\n",
            "*** 重み1 ***\n",
            "[[0.1 0.3 0.5]\n",
            " [0.2 0.4 0.6]]\n",
            "\n",
            "*** 重み2 ***\n",
            "[[0.1 0.4]\n",
            " [0.2 0.5]\n",
            " [0.3 0.6]]\n",
            "\n",
            "*** 重み3 ***\n",
            "[[0.1 0.3]\n",
            " [0.2 0.4]]\n",
            "\n",
            "*** バイアス1 ***\n",
            "[0.1 0.2 0.3]\n",
            "\n",
            "*** バイアス2 ***\n",
            "[0.1 0.2]\n",
            "\n",
            "*** バイアス3 ***\n",
            "[1 2]\n",
            "\n",
            "##### 順伝播開始 #####\n",
            "*** 総入力1 ***\n",
            "[0.6 1.3 2. ]\n",
            "\n",
            "*** 中間層出力1 ***\n",
            "[0.6 1.3 2. ]\n",
            "\n",
            "*** 総入力2 ***\n",
            "[1.02 2.29]\n",
            "\n",
            "*** 出力1 ***\n",
            "[0.6 1.3 2. ]\n",
            "\n",
            "出力合計: 3.9\n"
          ],
          "name": "stdout"
        }
      ]
    },
    {
      "cell_type": "markdown",
      "metadata": {
        "id": "7Np6NwxQfFas",
        "colab_type": "text"
      },
      "source": [
        "# 多クラス分類（2-3-4ネットワーク）"
      ]
    },
    {
      "cell_type": "code",
      "metadata": {
        "id": "8uypKa5Re3eQ",
        "colab_type": "code",
        "outputId": "e44ee681-4b28-4d82-be60-54c20ee39a83",
        "colab": {
          "base_uri": "https://localhost:8080/",
          "height": 714
        }
      },
      "source": [
        "# 多クラス分類\n",
        "# 2-3-4ネットワーク\n",
        "\n",
        "# ！試してみよう_ノードの構成を 3-5-4 に変更してみよう\n",
        "\n",
        "# ウェイトとバイアスを設定\n",
        "# ネートワークを作成\n",
        "def init_network():\n",
        "    print(\"##### ネットワークの初期化 #####\")\n",
        "\n",
        "    #試してみよう\n",
        "    #_各パラメータのshapeを表示\n",
        "    #_ネットワークの初期値ランダム生成\n",
        "\n",
        "    network = {}\n",
        "    network['W1'] = np.array([\n",
        "        [0.1, 0.3, 0.5],\n",
        "        [0.2, 0.4, 0.6]\n",
        "    ])\n",
        "    network['W2'] = np.array([\n",
        "        [0.1, 0.4, 0.7, 1.0],\n",
        "        [0.2, 0.5, 0.8, 1.1],\n",
        "        [0.3, 0.6, 0.9, 1.2]\n",
        "    ])\n",
        "    network['b1'] = np.array([0.1, 0.2, 0.3])\n",
        "    network['b2'] = np.array([0.1, 0.2, 0.3, 0.4])\n",
        "    \n",
        "    print_vec(\"重み1\", network['W1'] )\n",
        "    print_vec(\"重み2\", network['W2'] )\n",
        "    print_vec(\"バイアス1\", network['b1'] )\n",
        "    print_vec(\"バイアス2\", network['b2'] )\n",
        "\n",
        "    return network\n",
        "\n",
        "# プロセスを作成\n",
        "# x：入力値\n",
        "def forward(network, x):\n",
        "    \n",
        "    print(\"##### 順伝播開始 #####\")\n",
        "    W1, W2 = network['W1'], network['W2']\n",
        "    b1, b2 = network['b1'], network['b2']\n",
        "    \n",
        "    # 1層の総入力\n",
        "    u1 = np.dot(x, W1) + b1\n",
        "\n",
        "    # 1層の総出力\n",
        "    z1 = functions.relu(u1)\n",
        "\n",
        "    # 2層の総入力\n",
        "    u2 = np.dot(z1, W2) + b2\n",
        "    \n",
        "    # 出力値\n",
        "    y = functions.softmax(u2)\n",
        "    \n",
        "    print_vec(\"総入力1\", u1)\n",
        "    print_vec(\"中間層出力1\", z1)\n",
        "    print_vec(\"総入力2\", u2)\n",
        "    print_vec(\"出力1\", y)\n",
        "    print(\"出力合計: \" + str(np.sum(y)))\n",
        "        \n",
        "    return y, z1\n",
        "\n",
        "## 事前データ\n",
        "# 入力値\n",
        "x = np.array([1., 2.])\n",
        "\n",
        "# 目標出力\n",
        "d = np.array([0, 0, 0, 1])\n",
        "\n",
        "# ネットワークの初期化\n",
        "network =  init_network()\n",
        "\n",
        "# 出力\n",
        "y, z1 = forward(network, x)\n",
        "\n",
        "# 誤差\n",
        "loss = functions.cross_entropy_error(d, y)\n",
        "\n",
        "## 表示\n",
        "print(\"\\n##### 結果表示 #####\")\n",
        "print_vec(\"出力\", y)\n",
        "print_vec(\"訓練データ\", d)\n",
        "print_vec(\"誤差\",  loss)\n",
        "\n"
      ],
      "execution_count": 0,
      "outputs": [
        {
          "output_type": "stream",
          "text": [
            "##### ネットワークの初期化 #####\n",
            "*** 重み1 ***\n",
            "[[0.1 0.3 0.5]\n",
            " [0.2 0.4 0.6]]\n",
            "\n",
            "*** 重み2 ***\n",
            "[[0.1 0.4 0.7 1. ]\n",
            " [0.2 0.5 0.8 1.1]\n",
            " [0.3 0.6 0.9 1.2]]\n",
            "\n",
            "*** バイアス1 ***\n",
            "[0.1 0.2 0.3]\n",
            "\n",
            "*** バイアス2 ***\n",
            "[0.1 0.2 0.3 0.4]\n",
            "\n",
            "##### 順伝播開始 #####\n",
            "*** 総入力1 ***\n",
            "[0.6 1.3 2. ]\n",
            "\n",
            "*** 中間層出力1 ***\n",
            "[0.6 1.3 2. ]\n",
            "\n",
            "*** 総入力2 ***\n",
            "[1.02 2.29 3.56 4.83]\n",
            "\n",
            "*** 出力1 ***\n",
            "[0.01602796 0.05707321 0.20322929 0.72366954]\n",
            "\n",
            "出力合計: 1.0\n",
            "\n",
            "##### 結果表示 #####\n",
            "*** 出力 ***\n",
            "[0.01602796 0.05707321 0.20322929 0.72366954]\n",
            "\n",
            "*** 訓練データ ***\n",
            "[0 0 0 1]\n",
            "\n",
            "*** 誤差 ***\n",
            "0.3234202933601941\n",
            "\n"
          ],
          "name": "stdout"
        }
      ]
    },
    {
      "cell_type": "markdown",
      "metadata": {
        "id": "pN2ldtNRfL-r",
        "colab_type": "text"
      },
      "source": [
        "# 回帰（2-3-2ネットワーク）"
      ]
    },
    {
      "cell_type": "code",
      "metadata": {
        "id": "AwigBRlBe3eS",
        "colab_type": "code",
        "outputId": "cd13e50a-b240-45e9-f755-b13b50ba9428",
        "colab": {
          "base_uri": "https://localhost:8080/",
          "height": 765
        }
      },
      "source": [
        "# 回帰\n",
        "# 2-3-2ネットワーク\n",
        "\n",
        "# ！試してみよう_ノードの構成を 3-5-4 に変更してみよう\n",
        "\n",
        "# ウェイトとバイアスを設定\n",
        "# ネートワークを作成\n",
        "def init_network():\n",
        "    print(\"##### ネットワークの初期化 #####\")\n",
        "\n",
        "    network = {}\n",
        "    network['W1'] = np.array([\n",
        "        [0.1, 0.3, 0.5],\n",
        "        [0.2, 0.4, 0.6]\n",
        "    ])\n",
        "    network['W2'] = np.array([\n",
        "        [0.1, 0.4],\n",
        "        [0.2, 0.5],\n",
        "        [0.3, 0.6]\n",
        "    ])\n",
        "    network['b1'] = np.array([0.1, 0.2, 0.3])\n",
        "    network['b2'] = np.array([0.1, 0.2])\n",
        "    \n",
        "    print_vec(\"重み1\", network['W1'] )\n",
        "    print_vec(\"重み2\", network['W2'] )\n",
        "    print_vec(\"バイアス1\", network['b1'] )\n",
        "    print_vec(\"バイアス2\", network['b2'] )\n",
        "\n",
        "    return network\n",
        "\n",
        "# プロセスを作成\n",
        "def forward(network, x):\n",
        "    print(\"##### 順伝播開始 #####\")\n",
        "    \n",
        "    W1, W2 = network['W1'], network['W2']\n",
        "    b1, b2 = network['b1'], network['b2']\n",
        "    # 隠れ層の総入力\n",
        "    u1 = np.dot(x, W1) + b1\n",
        "    # 隠れ層の総出力\n",
        "    z1 = functions.relu(u1)\n",
        "    # 出力層の総入力\n",
        "    u2 = np.dot(z1, W2) + b2\n",
        "    # 出力層の総出力\n",
        "    y = u2\n",
        "    \n",
        "    print_vec(\"総入力1\", u1)\n",
        "    print_vec(\"中間層出力1\", z1)\n",
        "    print_vec(\"総入力2\", u2)\n",
        "    print_vec(\"出力1\", y)\n",
        "    print(\"出力合計: \" + str(np.sum(z1)))\n",
        "    \n",
        "    return y, z1\n",
        "\n",
        "# 入力値\n",
        "x = np.array([1., 2.])\n",
        "network =  init_network()\n",
        "y, z1 = forward(network, x)\n",
        "# 目標出力\n",
        "d = np.array([2., 4.])\n",
        "# 誤差\n",
        "loss = functions.mean_squared_error(d, y)\n",
        "## 表示\n",
        "print(\"\\n##### 結果表示 #####\")\n",
        "print_vec(\"中間層出力\", z1)\n",
        "print_vec(\"出力\", y)\n",
        "print_vec(\"訓練データ\", d)\n",
        "print_vec(\"誤差\",  loss)\n"
      ],
      "execution_count": 0,
      "outputs": [
        {
          "output_type": "stream",
          "text": [
            "##### ネットワークの初期化 #####\n",
            "*** 重み1 ***\n",
            "[[0.1 0.3 0.5]\n",
            " [0.2 0.4 0.6]]\n",
            "\n",
            "*** 重み2 ***\n",
            "[[0.1 0.4]\n",
            " [0.2 0.5]\n",
            " [0.3 0.6]]\n",
            "\n",
            "*** バイアス1 ***\n",
            "[0.1 0.2 0.3]\n",
            "\n",
            "*** バイアス2 ***\n",
            "[0.1 0.2]\n",
            "\n",
            "##### 順伝播開始 #####\n",
            "*** 総入力1 ***\n",
            "[0.6 1.3 2. ]\n",
            "\n",
            "*** 中間層出力1 ***\n",
            "[0.6 1.3 2. ]\n",
            "\n",
            "*** 総入力2 ***\n",
            "[1.02 2.29]\n",
            "\n",
            "*** 出力1 ***\n",
            "[1.02 2.29]\n",
            "\n",
            "出力合計: 3.9\n",
            "\n",
            "##### 結果表示 #####\n",
            "*** 中間層出力 ***\n",
            "[0.6 1.3 2. ]\n",
            "\n",
            "*** 出力 ***\n",
            "[1.02 2.29]\n",
            "\n",
            "*** 訓練データ ***\n",
            "[2. 4.]\n",
            "\n",
            "*** 誤差 ***\n",
            "0.9711249999999999\n",
            "\n"
          ],
          "name": "stdout"
        }
      ]
    },
    {
      "cell_type": "markdown",
      "metadata": {
        "id": "JOrkdwYHGciu",
        "colab_type": "text"
      },
      "source": [
        "#2値分類（2-3-1ネットワーク）"
      ]
    },
    {
      "cell_type": "code",
      "metadata": {
        "id": "Zm2-u-UNe3eU",
        "colab_type": "code",
        "outputId": "45c549f2-1305-49f8-b846-54ed56fb9746",
        "colab": {
          "base_uri": "https://localhost:8080/",
          "height": 510
        }
      },
      "source": [
        "# 2値分類\n",
        "# 2-3-1ネットワーク\n",
        "\n",
        "# ！試してみよう_ノードの構成を 5-10-1 に変更してみよう\n",
        "\n",
        "# ウェイトとバイアスを設定\n",
        "# ネートワークを作成\n",
        "def init_network():\n",
        "    print(\"##### ネットワークの初期化 #####\")\n",
        "\n",
        "    network = {}\n",
        "    network['W1'] = np.array([\n",
        "        [0.1, 0.3, 0.5],\n",
        "        [0.2, 0.4, 0.6]\n",
        "    ])\n",
        "    network['W2'] = np.array([\n",
        "        [0.2],\n",
        "        [0.4],\n",
        "        [0.6]\n",
        "    ])\n",
        "    network['b1'] = np.random.rand(3)\n",
        "    network['b2'] = np.array([0.1])\n",
        "    return network\n",
        "\n",
        "\n",
        "# プロセスを作成\n",
        "def forward(network, x):\n",
        "    print(\"##### 順伝播開始 #####\")\n",
        "    \n",
        "    W1, W2 = network['W1'], network['W2']\n",
        "    b1, b2 = network['b1'], network['b2']    \n",
        "\n",
        "    # 隠れ層の総入力\n",
        "    u1 = np.dot(x, W1) + b1\n",
        "    # 隠れ層の総出力\n",
        "    z1 = functions.relu(u1)\n",
        "    # 出力層の総入力\n",
        "    u2 = np.dot(z1, W2) + b2\n",
        "    # 出力層の総出力\n",
        "    y = functions.sigmoid(u2)\n",
        "            \n",
        "    print_vec(\"総入力1\", u1)\n",
        "    print_vec(\"中間層出力1\", z1)\n",
        "    print_vec(\"総入力2\", u2)\n",
        "    print_vec(\"出力1\", y)\n",
        "    print(\"出力合計: \" + str(np.sum(z1)))\n",
        "\n",
        "    return y, z1\n",
        "\n",
        "\n",
        "# 入力値\n",
        "x = np.array([1., 2.])\n",
        "# 目標出力\n",
        "d = np.array([1])\n",
        "network =  init_network()\n",
        "y, z1 = forward(network, x)\n",
        "# 誤差\n",
        "loss = functions.cross_entropy_error(d, y)\n",
        "\n",
        "## 表示\n",
        "print(\"\\n##### 結果表示 #####\")\n",
        "print_vec(\"中間層出力\", z1)\n",
        "print_vec(\"出力\", y)\n",
        "print_vec(\"訓練データ\", d)\n",
        "print_vec(\"誤差\",  loss)"
      ],
      "execution_count": 0,
      "outputs": [
        {
          "output_type": "stream",
          "text": [
            "##### ネットワークの初期化 #####\n",
            "##### 順伝播開始 #####\n",
            "*** 総入力1 ***\n",
            "[0.54031723 2.0923657  1.94798534]\n",
            "\n",
            "*** 中間層出力1 ***\n",
            "[0.54031723 2.0923657  1.94798534]\n",
            "\n",
            "*** 総入力2 ***\n",
            "[2.21380093]\n",
            "\n",
            "*** 出力1 ***\n",
            "[0.90148201]\n",
            "\n",
            "出力合計: 4.580668268944672\n",
            "\n",
            "##### 結果表示 #####\n",
            "*** 中間層出力 ***\n",
            "[0.54031723 2.0923657  1.94798534]\n",
            "\n",
            "*** 出力 ***\n",
            "[0.90148201]\n",
            "\n",
            "*** 訓練データ ***\n",
            "[1]\n",
            "\n",
            "*** 誤差 ***\n",
            "0.10371507990779927\n",
            "\n"
          ],
          "name": "stdout"
        }
      ]
    },
    {
      "cell_type": "markdown",
      "metadata": {
        "id": "Dk6J33SzGIm1",
        "colab_type": "text"
      },
      "source": [
        "#<font color=\"Red\">[Try] 2値分類（5-10-1ネットワーク）</font>\n"
      ]
    },
    {
      "cell_type": "code",
      "metadata": {
        "id": "AsW901jQG18u",
        "colab_type": "code",
        "outputId": "641f775e-0c0c-4ea5-ab82-f4499af5a72c",
        "colab": {
          "base_uri": "https://localhost:8080/",
          "height": 561
        }
      },
      "source": [
        "# 2値分類\n",
        "\n",
        "# ！試してみよう_ノードの構成を 5-10-1 に変更してみよう\n",
        "\n",
        "# ウェイトとバイアスを設定\n",
        "# ネートワークを作成\n",
        "def init_network():\n",
        "    print(\"##### ネットワークの初期化 #####\")\n",
        "\n",
        "    network = {}\n",
        "    network['W1'] = np.random.rand(5,10)\n",
        "   # network['W1'] = np.array([\n",
        "   #     [0.1, 0.6, 1.1, 0.1, 0.6, 1.1, 0.1, 0.6, 1.1, 1.2],\n",
        "   #     [0.2, 0.7, 1.2, 0.2, 0.7, 1.2, 0.2, 0.7, 1.2, 1.3],\n",
        "   #     [0.3, 0.8, 1.3, 0.3, 0.8, 1.3, 0.3, 0.8, 1.3, 1.4],\n",
        "   #     [0.4, 0.9, 1.4, 0.4, 0.9, 1.4, 0.4, 0.9, 1.4, 1.5],\n",
        "   #     [0.5, 1.0, 1.5, 0.5, 1.0, 1.5, 0.5, 1.0, 1.5, 1.6]\n",
        "   # ])\n",
        "    network['W2'] = np.random.rand(10,1)\n",
        "  \n",
        "    network['b1'] = np.array([0.1, 0.2, 0.3, 0.1, 0.4, 0.2, 0.8, 0.3, 0.1, 0.4])\n",
        "    network['b2'] = np.array([0.1])\n",
        "    return network\n",
        "\n",
        "\n",
        "# プロセスを作成\n",
        "def forward(network, x):\n",
        "    print(\"##### 順伝播開始 #####\")\n",
        "    \n",
        "    W1, W2 = network['W1'], network['W2']\n",
        "    b1, b2 = network['b1'], network['b2']    \n",
        "\n",
        "    # 隠れ層の総入力\n",
        "    u1 = np.dot(x, W1) + b1\n",
        "    # 隠れ層の総出力\n",
        "    z1 = functions.relu(u1)\n",
        "    # 出力層の総入力\n",
        "    u2 = np.dot(z1, W2) + b2\n",
        "    # 出力層の総出力\n",
        "    y = functions.sigmoid(u2)\n",
        "            \n",
        "    print_vec(\"総入力1\", u1)\n",
        "    print_vec(\"中間層出力1\", z1)\n",
        "    print_vec(\"総入力2\", u2)\n",
        "    print_vec(\"出力1\", y)\n",
        "    print(\"出力合計: \" + str(np.sum(z1)))\n",
        "\n",
        "    return y, z1\n",
        "\n",
        "\n",
        "# 入力値\n",
        "x = np.array([1., 2. ,3. ,4. ,2.])\n",
        "# 目標出力\n",
        "d = np.array([1])\n",
        "network =  init_network()\n",
        "y, z1 = forward(network, x)\n",
        "# 誤差\n",
        "loss = functions.cross_entropy_error(d, y)\n",
        "\n",
        "## 表示\n",
        "print(\"\\n##### 結果表示 #####\")\n",
        "print_vec(\"中間層出力\", z1)\n",
        "print_vec(\"出力\", y)\n",
        "print_vec(\"訓練データ\", d)\n",
        "print_vec(\"誤差\",  loss)"
      ],
      "execution_count": 0,
      "outputs": [
        {
          "output_type": "stream",
          "text": [
            "##### ネットワークの初期化 #####\n",
            "##### 順伝播開始 #####\n",
            "*** 総入力1 ***\n",
            "[7.43132893 5.57858579 7.52726637 4.42385795 9.1008633  7.98776265\n",
            " 9.0784025  4.57963718 5.11071149 7.85863921]\n",
            "\n",
            "*** 中間層出力1 ***\n",
            "[7.43132893 5.57858579 7.52726637 4.42385795 9.1008633  7.98776265\n",
            " 9.0784025  4.57963718 5.11071149 7.85863921]\n",
            "\n",
            "*** 総入力2 ***\n",
            "[27.47724408]\n",
            "\n",
            "*** 出力1 ***\n",
            "[1.]\n",
            "\n",
            "出力合計: 68.67705536468812\n",
            "\n",
            "##### 結果表示 #####\n",
            "*** 中間層出力 ***\n",
            "[7.43132893 5.57858579 7.52726637 4.42385795 9.1008633  7.98776265\n",
            " 9.0784025  4.57963718 5.11071149 7.85863921]\n",
            "\n",
            "*** 出力 ***\n",
            "[1.]\n",
            "\n",
            "*** 訓練データ ***\n",
            "[1]\n",
            "\n",
            "*** 誤差 ***\n",
            "-9.999882888023859e-08\n",
            "\n"
          ],
          "name": "stdout"
        }
      ]
    }
  ]
}