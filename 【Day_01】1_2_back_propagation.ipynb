{
  "nbformat": 4,
  "nbformat_minor": 0,
  "metadata": {
    "kernelspec": {
      "display_name": "Python 3",
      "language": "python",
      "name": "python3"
    },
    "language_info": {
      "codemirror_mode": {
        "name": "ipython",
        "version": 3
      },
      "file_extension": ".py",
      "mimetype": "text/x-python",
      "name": "python",
      "nbconvert_exporter": "python",
      "pygments_lexer": "ipython3",
      "version": "3.6.3"
    },
    "colab": {
      "name": "【Day 01】1_2_back_propagation.ipynb",
      "provenance": [],
      "collapsed_sections": [],
      "toc_visible": true,
      "include_colab_link": true
    }
  },
  "cells": [
    {
      "cell_type": "markdown",
      "metadata": {
        "id": "view-in-github",
        "colab_type": "text"
      },
      "source": [
        "<a href=\"https://colab.research.google.com/github/HienDT27/Rabbit-Challenge/blob/master/%E3%80%90Day_01%E3%80%911_2_back_propagation.ipynb\" target=\"_parent\"><img src=\"https://colab.research.google.com/assets/colab-badge.svg\" alt=\"Open In Colab\"/></a>"
      ]
    },
    {
      "cell_type": "markdown",
      "metadata": {
        "id": "8cNl2QA_Rnv5",
        "colab_type": "text"
      },
      "source": [
        "# 準備"
      ]
    },
    {
      "cell_type": "markdown",
      "metadata": {
        "id": "YkwjN1jNVAYy",
        "colab_type": "text"
      },
      "source": [
        "## Googleドライブのマウント"
      ]
    },
    {
      "cell_type": "code",
      "metadata": {
        "id": "pvFXpiH3EVC1",
        "colab_type": "code",
        "outputId": "b580d086-c727-48c3-ffac-1540d8c0c52a",
        "colab": {
          "base_uri": "https://localhost:8080/",
          "height": 122
        }
      },
      "source": [
        "from google.colab import drive\n",
        "drive.mount('/content/drive')"
      ],
      "execution_count": 0,
      "outputs": [
        {
          "output_type": "stream",
          "text": [
            "Go to this URL in a browser: https://accounts.google.com/o/oauth2/auth?client_id=947318989803-6bn6qk8qdgf4n4g3pfee6491hc0brc4i.apps.googleusercontent.com&redirect_uri=urn%3aietf%3awg%3aoauth%3a2.0%3aoob&response_type=code&scope=email%20https%3a%2f%2fwww.googleapis.com%2fauth%2fdocs.test%20https%3a%2f%2fwww.googleapis.com%2fauth%2fdrive%20https%3a%2f%2fwww.googleapis.com%2fauth%2fdrive.photos.readonly%20https%3a%2f%2fwww.googleapis.com%2fauth%2fpeopleapi.readonly\n",
            "\n",
            "Enter your authorization code:\n",
            "··········\n",
            "Mounted at /content/drive\n"
          ],
          "name": "stdout"
        }
      ]
    },
    {
      "cell_type": "markdown",
      "metadata": {
        "id": "3Ub7RYdeY6pK",
        "colab_type": "text"
      },
      "source": [
        "## sys.pathの設定"
      ]
    },
    {
      "cell_type": "markdown",
      "metadata": {
        "id": "oql7L19rEsWi",
        "colab_type": "text"
      },
      "source": [
        "以下では，Googleドライブのマイドライブ直下にDNN_codeフォルダを置くことを仮定しています．必要に応じて，パスを変更してください．"
      ]
    },
    {
      "cell_type": "code",
      "metadata": {
        "id": "7Ic2JzkvFX59",
        "colab_type": "code",
        "colab": {}
      },
      "source": [
        "import sys\n",
        "sys.path.append('/content/drive/My Drive/【E資格】深層学習/DNN_code')"
      ],
      "execution_count": 0,
      "outputs": []
    },
    {
      "cell_type": "markdown",
      "metadata": {
        "id": "k5L0AWliZYng",
        "colab_type": "text"
      },
      "source": [
        "# importと関数定義"
      ]
    },
    {
      "cell_type": "code",
      "metadata": {
        "id": "aNcuxoGogLvM",
        "colab_type": "code",
        "colab": {}
      },
      "source": [
        "import numpy as np\n",
        "from common import functions\n",
        "import matplotlib.pyplot as plt\n",
        "\n",
        "def print_vec(text, vec):\n",
        "    print(\"*** \" + text + \" ***\")\n",
        "    print(vec)\n",
        "    #print(\"shape: \" + str(x.shape))\n",
        "    print(\"\")\n"
      ],
      "execution_count": 0,
      "outputs": []
    },
    {
      "cell_type": "markdown",
      "metadata": {
        "id": "uhkhpJjOgbtF",
        "colab_type": "text"
      },
      "source": [
        "# メインプログラム"
      ]
    },
    {
      "cell_type": "code",
      "metadata": {
        "id": "Ma1nAxuegLvQ",
        "colab_type": "code",
        "outputId": "553976aa-e2fe-463c-a463-96e23285114f",
        "colab": {
          "base_uri": "https://localhost:8080/",
          "height": 1000
        }
      },
      "source": [
        "# ウェイトとバイアスを設定\n",
        "# ネートワークを作成\n",
        "def init_network():\n",
        "    print(\"##### ネットワークの初期化 #####\")\n",
        "\n",
        "    network = {}\n",
        "    network['W1'] = np.array([\n",
        "        [0.1, 0.3, 0.5],\n",
        "        [0.2, 0.4, 0.6]\n",
        "    ])\n",
        "\n",
        "    network['W2'] = np.array([\n",
        "        [0.1, 0.4],\n",
        "        [0.2, 0.5],\n",
        "        [0.3, 0.6]\n",
        "    ])\n",
        "\n",
        "    network['b1'] = np.array([0.1, 0.2, 0.3])\n",
        "    network['b2'] = np.array([0.1, 0.2])\n",
        "    \n",
        "    print_vec(\"重み1\", network['W1'])\n",
        "    print_vec(\"重み2\", network['W2'])\n",
        "    print_vec(\"バイアス1\", network['b1'])\n",
        "    print_vec(\"バイアス2\", network['b2'])\n",
        "\n",
        "    return network\n",
        "\n",
        "# 順伝播\n",
        "def forward(network, x):\n",
        "    print(\"##### 順伝播開始 #####\")\n",
        "\n",
        "    W1, W2 = network['W1'], network['W2']\n",
        "    b1, b2 = network['b1'], network['b2']\n",
        "    \n",
        "    u1 = np.dot(x, W1) + b1\n",
        "    z1 = functions.relu(u1)\n",
        "    u2 = np.dot(z1, W2) + b2\n",
        "    y = functions.softmax(u2)\n",
        "    \n",
        "    print_vec(\"総入力1\", u1)\n",
        "    print_vec(\"中間層出力1\", z1)\n",
        "    print_vec(\"総入力2\", u2)\n",
        "    print_vec(\"出力1\", y)\n",
        "    print(\"出力合計: \" + str(np.sum(y)))\n",
        "\n",
        "    return y, z1\n",
        "\n",
        "# 誤差逆伝播\n",
        "def backward(x, d, z1, y):\n",
        "    print(\"\\n##### 誤差逆伝播開始 #####\")\n",
        "\n",
        "    grad = {}\n",
        "\n",
        "    W1, W2 = network['W1'], network['W2']\n",
        "    b1, b2 = network['b1'], network['b2']\n",
        "    #  出力層でのデルタ\n",
        "    delta2 = functions.d_sigmoid_with_loss(d, y)\n",
        "    #  b2の勾配\n",
        "    grad['b2'] = np.sum(delta2, axis=0)\n",
        "    #  W2の勾配\n",
        "    grad['W2'] = np.dot(z1.T, delta2)\n",
        "    #  中間層でのデルタ\n",
        "    delta1 = np.dot(delta2, W2.T) * functions.d_relu(z1)\n",
        "    # b1の勾配\n",
        "    grad['b1'] = np.sum(delta1, axis=0)\n",
        "    #  W1の勾配\n",
        "    grad['W1'] = np.dot(x.T, delta1)\n",
        "        \n",
        "    print_vec(\"偏微分_dE/du2\", delta2)\n",
        "    print_vec(\"偏微分_dE/du2\", delta1)\n",
        "\n",
        "    print_vec(\"偏微分_重み1\", grad[\"W1\"])\n",
        "    print_vec(\"偏微分_重み2\", grad[\"W2\"])\n",
        "    print_vec(\"偏微分_バイアス1\", grad[\"b1\"])\n",
        "    print_vec(\"偏微分_バイアス2\", grad[\"b2\"])\n",
        "\n",
        "    return grad\n",
        "    \n",
        "# 訓練データ\n",
        "x = np.array([[1.0, 5.0]])\n",
        "# 目標出力\n",
        "d = np.array([[0, 1]])\n",
        "#  学習率\n",
        "learning_rate = 0.01\n",
        "#learning_rate = 0.1\n",
        "network =  init_network()\n",
        "y, z1 = forward(network, x)\n",
        "\n",
        "# 誤差\n",
        "loss = functions.cross_entropy_error(d, y)\n",
        "print(\"誤差\",loss)\n",
        "\n",
        "grad = backward(x, d, z1, y)\n",
        "for key in ('W1', 'W2', 'b1', 'b2'):\n",
        "    network[key]  -= learning_rate * grad[key]\n",
        "\n",
        "print(\"##### 結果表示 #####\")    \n",
        "\n",
        "\n",
        "print(\"##### 更新後パラメータ #####\") \n",
        "print_vec(\"重み1\", network['W1'])\n",
        "print_vec(\"重み2\", network['W2'])\n",
        "print_vec(\"バイアス1\", network['b1'])\n",
        "print_vec(\"バイアス2\", network['b2'])\n",
        "\n",
        "y, z1 = forward(network, x)\n",
        "\n",
        "#更新後の重みとバイアスで、誤差を計算する\n",
        "# 誤差\n",
        "loss = functions.cross_entropy_error(d, y)\n",
        "print(\"誤差\",loss)"
      ],
      "execution_count": 0,
      "outputs": [
        {
          "output_type": "stream",
          "text": [
            "##### ネットワークの初期化 #####\n",
            "*** 重み1 ***\n",
            "[[0.1 0.3 0.5]\n",
            " [0.2 0.4 0.6]]\n",
            "\n",
            "*** 重み2 ***\n",
            "[[0.1 0.4]\n",
            " [0.2 0.5]\n",
            " [0.3 0.6]]\n",
            "\n",
            "*** バイアス1 ***\n",
            "[0.1 0.2 0.3]\n",
            "\n",
            "*** バイアス2 ***\n",
            "[0.1 0.2]\n",
            "\n",
            "##### 順伝播開始 #####\n",
            "*** 総入力1 ***\n",
            "[[1.2 2.5 3.8]]\n",
            "\n",
            "*** 中間層出力1 ***\n",
            "[[1.2 2.5 3.8]]\n",
            "\n",
            "*** 総入力2 ***\n",
            "[[1.86 4.21]]\n",
            "\n",
            "*** 出力1 ***\n",
            "[[0.08706577 0.91293423]]\n",
            "\n",
            "出力合計: 0.9999999999999999\n",
            "誤差 0.09109133135793156\n",
            "\n",
            "##### 誤差逆伝播開始 #####\n",
            "*** 偏微分_dE/du2 ***\n",
            "[[ 0.08706577 -0.08706577]]\n",
            "\n",
            "*** 偏微分_dE/du2 ***\n",
            "[[-0.02611973 -0.02611973 -0.02611973]]\n",
            "\n",
            "*** 偏微分_重み1 ***\n",
            "[[-0.02611973 -0.02611973 -0.02611973]\n",
            " [-0.13059866 -0.13059866 -0.13059866]]\n",
            "\n",
            "*** 偏微分_重み2 ***\n",
            "[[ 0.10447893 -0.10447893]\n",
            " [ 0.21766443 -0.21766443]\n",
            " [ 0.33084994 -0.33084994]]\n",
            "\n",
            "*** 偏微分_バイアス1 ***\n",
            "[-0.02611973 -0.02611973 -0.02611973]\n",
            "\n",
            "*** 偏微分_バイアス2 ***\n",
            "[ 0.08706577 -0.08706577]\n",
            "\n",
            "##### 結果表示 #####\n",
            "##### 更新後パラメータ #####\n",
            "*** 重み1 ***\n",
            "[[0.10261197 0.30261197 0.50261197]\n",
            " [0.21305987 0.41305987 0.61305987]]\n",
            "\n",
            "*** 重み2 ***\n",
            "[[0.08955211 0.41044789]\n",
            " [0.17823356 0.52176644]\n",
            " [0.26691501 0.63308499]]\n",
            "\n",
            "*** バイアス1 ***\n",
            "[0.10261197 0.20261197 0.30261197]\n",
            "\n",
            "*** バイアス2 ***\n",
            "[0.09129342 0.20870658]\n",
            "\n",
            "##### 順伝播開始 #####\n",
            "*** 総入力1 ***\n",
            "[[1.27052328 2.57052328 3.87052328]]\n",
            "\n",
            "*** 中間層出力1 ***\n",
            "[[1.27052328 2.57052328 3.87052328]]\n",
            "\n",
            "*** 総入力2 ***\n",
            "[[1.69632571 4.52177317]]\n",
            "\n",
            "*** 出力1 ***\n",
            "[[0.05596443 0.94403557]]\n",
            "\n",
            "出力合計: 0.9999999999999999\n",
            "誤差 0.05759133192915599\n"
          ],
          "name": "stdout"
        }
      ]
    }
  ]
}