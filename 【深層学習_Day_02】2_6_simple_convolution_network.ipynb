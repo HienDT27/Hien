{
  "nbformat": 4,
  "nbformat_minor": 0,
  "metadata": {
    "kernelspec": {
      "name": "python3",
      "display_name": "Python 3"
    },
    "language_info": {
      "codemirror_mode": {
        "name": "ipython",
        "version": 3
      },
      "file_extension": ".py",
      "mimetype": "text/x-python",
      "name": "python",
      "nbconvert_exporter": "python",
      "pygments_lexer": "ipython3",
      "version": "3.6.3"
    },
    "colab": {
      "name": "【深層学習  Day 02】2_6_simple_convolution_network.ipynb",
      "provenance": [],
      "collapsed_sections": [],
      "toc_visible": true,
      "include_colab_link": true
    },
    "accelerator": "GPU"
  },
  "cells": [
    {
      "cell_type": "markdown",
      "metadata": {
        "id": "view-in-github",
        "colab_type": "text"
      },
      "source": [
        "<a href=\"https://colab.research.google.com/github/HienDT27/Rabbit-Challenge/blob/master/%E3%80%90%E6%B7%B1%E5%B1%A4%E5%AD%A6%E7%BF%92_Day_02%E3%80%912_6_simple_convolution_network.ipynb\" target=\"_parent\"><img src=\"https://colab.research.google.com/assets/colab-badge.svg\" alt=\"Open In Colab\"/></a>"
      ]
    },
    {
      "cell_type": "markdown",
      "metadata": {
        "id": "8cNl2QA_Rnv5",
        "colab_type": "text"
      },
      "source": [
        "# 準備"
      ]
    },
    {
      "cell_type": "markdown",
      "metadata": {
        "id": "YkwjN1jNVAYy",
        "colab_type": "text"
      },
      "source": [
        "## Googleドライブのマウント"
      ]
    },
    {
      "cell_type": "code",
      "metadata": {
        "id": "pvFXpiH3EVC1",
        "colab_type": "code",
        "outputId": "e8978d09-cd53-40c2-fbcb-0ab06ef9ca54",
        "colab": {
          "base_uri": "https://localhost:8080/",
          "height": 122
        }
      },
      "source": [
        "from google.colab import drive\n",
        "drive.mount('/content/drive')"
      ],
      "execution_count": 1,
      "outputs": [
        {
          "output_type": "stream",
          "text": [
            "Go to this URL in a browser: https://accounts.google.com/o/oauth2/auth?client_id=947318989803-6bn6qk8qdgf4n4g3pfee6491hc0brc4i.apps.googleusercontent.com&redirect_uri=urn%3aietf%3awg%3aoauth%3a2.0%3aoob&response_type=code&scope=email%20https%3a%2f%2fwww.googleapis.com%2fauth%2fdocs.test%20https%3a%2f%2fwww.googleapis.com%2fauth%2fdrive%20https%3a%2f%2fwww.googleapis.com%2fauth%2fdrive.photos.readonly%20https%3a%2f%2fwww.googleapis.com%2fauth%2fpeopleapi.readonly\n",
            "\n",
            "Enter your authorization code:\n",
            "··········\n",
            "Mounted at /content/drive\n"
          ],
          "name": "stdout"
        }
      ]
    },
    {
      "cell_type": "markdown",
      "metadata": {
        "id": "3Ub7RYdeY6pK",
        "colab_type": "text"
      },
      "source": [
        "## sys.pathの設定"
      ]
    },
    {
      "cell_type": "markdown",
      "metadata": {
        "id": "oql7L19rEsWi",
        "colab_type": "text"
      },
      "source": [
        "以下では，Googleドライブのマイドライブ直下にDNN_codeフォルダを置くことを仮定しています．必要に応じて，パスを変更してください．"
      ]
    },
    {
      "cell_type": "code",
      "metadata": {
        "id": "7Ic2JzkvFX59",
        "colab_type": "code",
        "colab": {}
      },
      "source": [
        "import sys\n",
        "sys.path.append('/content/drive/My Drive/【E資格】深層学習/DNN_code')"
      ],
      "execution_count": 0,
      "outputs": []
    },
    {
      "cell_type": "markdown",
      "metadata": {
        "id": "77mUsKgs41aZ",
        "colab_type": "text"
      },
      "source": [
        "# simple convolution network"
      ]
    },
    {
      "cell_type": "markdown",
      "metadata": {
        "id": "CZDjmllG41aa",
        "colab_type": "text"
      },
      "source": [
        "## image to column"
      ]
    },
    {
      "cell_type": "code",
      "metadata": {
        "id": "GFbg8ow141ab",
        "colab_type": "code",
        "colab": {}
      },
      "source": [
        "import pickle\n",
        "import numpy as np\n",
        "from collections import OrderedDict\n",
        "from common import layers\n",
        "from common import optimizer\n",
        "from data.mnist import load_mnist\n",
        "import matplotlib.pyplot as plt\n",
        "\n",
        "# 画像データを２次元配列に変換\n",
        "'''\n",
        "input_data: 入力値\n",
        "filter_h: フィルターの高さ\n",
        "filter_w: フィルターの横幅\n",
        "stride: ストライド\n",
        "pad: パディング\n",
        "'''\n",
        "def im2col(input_data, filter_h, filter_w, stride=1, pad=0):\n",
        "    # N: number, C: channel, H: height, W: width\n",
        "    N, C, H, W = input_data.shape\n",
        "    out_h = (H + 2 * pad - filter_h)//stride + 1\n",
        "    out_w = (W + 2 * pad - filter_w)//stride + 1\n",
        "\n",
        "    img = np.pad(input_data, [(0,0), (0,0), (pad, pad), (pad, pad)], 'constant')\n",
        "    col = np.zeros((N, C, filter_h, filter_w, out_h, out_w))\n",
        "\n",
        "    for y in range(filter_h):\n",
        "        y_max = y + stride * out_h\n",
        "        for x in range(filter_w):\n",
        "            x_max = x + stride * out_w\n",
        "            col[:, :, y, x, :, :] = img[:, :, y:y_max:stride, x:x_max:stride]\n",
        "    \n",
        "    col = col.transpose(0, 4, 5, 1, 2, 3) # (N, C, filter_h, filter_w, out_h, out_w) -> (N, filter_w, out_h, out_w, C, filter_h)    \n",
        "    \n",
        "    col = col.reshape(N * out_h * out_w, -1)\n",
        "    return col"
      ],
      "execution_count": 0,
      "outputs": []
    },
    {
      "cell_type": "code",
      "metadata": {
        "id": "3EoaDpoDAubn",
        "colab_type": "code",
        "colab": {
          "base_uri": "https://localhost:8080/",
          "height": 391
        },
        "outputId": "d5213b4b-5cba-41ef-8173-90672472df87"
      },
      "source": [
        "# im2colの処理確認\n",
        "input_data = np.random.rand(2, 1, 4, 4)*100//1 # number, channel, height, widthを表す\n",
        "print('========== input_data ===========\\n', input_data)\n",
        "print('==============================')\n",
        "filter_h = 3\n",
        "filter_w = 3\n",
        "stride = 1\n",
        "pad = 0\n",
        "col = im2col(input_data, filter_h=filter_h, filter_w=filter_w, stride=stride, pad=pad)\n",
        "print('============= col ==============\\n', col)\n",
        "print('==============================')"
      ],
      "execution_count": 13,
      "outputs": [
        {
          "output_type": "stream",
          "text": [
            "========== input_data ===========\n",
            " [[[[81. 67. 64. 30.]\n",
            "   [47. 21. 30. 36.]\n",
            "   [69. 86.  7. 34.]\n",
            "   [19. 41. 85. 61.]]]\n",
            "\n",
            "\n",
            " [[[25. 94. 50. 51.]\n",
            "   [ 7. 46. 30. 35.]\n",
            "   [87. 48. 73. 40.]\n",
            "   [57. 94. 26. 71.]]]]\n",
            "==============================\n",
            "============= col ==============\n",
            " [[81. 67. 64. 47. 21. 30. 69. 86.  7.]\n",
            " [67. 64. 30. 21. 30. 36. 86.  7. 34.]\n",
            " [47. 21. 30. 69. 86.  7. 19. 41. 85.]\n",
            " [21. 30. 36. 86.  7. 34. 41. 85. 61.]\n",
            " [25. 94. 50.  7. 46. 30. 87. 48. 73.]\n",
            " [94. 50. 51. 46. 30. 35. 48. 73. 40.]\n",
            " [ 7. 46. 30. 87. 48. 73. 57. 94. 26.]\n",
            " [46. 30. 35. 48. 73. 40. 94. 26. 71.]]\n",
            "==============================\n"
          ],
          "name": "stdout"
        }
      ]
    },
    {
      "cell_type": "markdown",
      "metadata": {
        "id": "aahFoRM941ae",
        "colab_type": "text"
      },
      "source": [
        "----------------------------------------------------------------------------------------------------------------------------------------------------------------------------\n",
        "## [try1] im2colの処理を確認しよう\n",
        "・関数内でtransposeの処理をしている行をコメントアウトして下のコードを実行してみよう<br>\n",
        "\n",
        "----------------------------------------------------------------------------------------------------------------------------------------------------------------------------"
      ]
    },
    {
      "cell_type": "code",
      "metadata": {
        "id": "O90BUlulAzL8",
        "colab_type": "code",
        "colab": {}
      },
      "source": [
        "import pickle\n",
        "import numpy as np\n",
        "from collections import OrderedDict\n",
        "from common import layers\n",
        "from common import optimizer\n",
        "from data.mnist import load_mnist\n",
        "import matplotlib.pyplot as plt\n",
        "\n",
        "# 画像データを２次元配列に変換\n",
        "'''\n",
        "input_data: 入力値\n",
        "filter_h: フィルターの高さ\n",
        "filter_w: フィルターの横幅\n",
        "stride: ストライド\n",
        "pad: パディング\n",
        "'''\n",
        "def im2col(input_data, filter_h, filter_w, stride=1, pad=0):\n",
        "    # N: number, C: channel, H: height, W: width\n",
        "    N, C, H, W = input_data.shape\n",
        "    out_h = (H + 2 * pad - filter_h)//stride + 1\n",
        "    out_w = (W + 2 * pad - filter_w)//stride + 1\n",
        "\n",
        "    img = np.pad(input_data, [(0,0), (0,0), (pad, pad), (pad, pad)], 'constant')\n",
        "    col = np.zeros((N, C, filter_h, filter_w, out_h, out_w))\n",
        "\n",
        "    for y in range(filter_h):\n",
        "        y_max = y + stride * out_h\n",
        "        for x in range(filter_w):\n",
        "            x_max = x + stride * out_w\n",
        "            col[:, :, y, x, :, :] = img[:, :, y:y_max:stride, x:x_max:stride]\n",
        "    \n",
        "    #col = col.transpose(0, 4, 5, 1, 2, 3) # (N, C, filter_h, filter_w, out_h, out_w) -> (N, filter_w, out_h, out_w, C, filter_h)    \n",
        "    \n",
        "    col = col.reshape(N * out_h * out_w, -1)\n",
        "    return col"
      ],
      "execution_count": 0,
      "outputs": []
    },
    {
      "cell_type": "code",
      "metadata": {
        "id": "Vd5NPF_641af",
        "colab_type": "code",
        "outputId": "dc52d675-abfd-46a4-a2ba-802ddfd712e4",
        "colab": {
          "base_uri": "https://localhost:8080/",
          "height": 391
        }
      },
      "source": [
        "# im2colの処理確認\n",
        "input_data = np.random.rand(2, 1, 4, 4)*100//1 # number, channel, height, widthを表す\n",
        "print('========== input_data ===========\\n', input_data)\n",
        "print('==============================')\n",
        "filter_h = 3\n",
        "filter_w = 3\n",
        "stride = 1\n",
        "pad = 0\n",
        "col = im2col(input_data, filter_h=filter_h, filter_w=filter_w, stride=stride, pad=pad)\n",
        "print('============= col ==============\\n', col)\n",
        "print('==============================')"
      ],
      "execution_count": 19,
      "outputs": [
        {
          "output_type": "stream",
          "text": [
            "========== input_data ===========\n",
            " [[[[41. 95. 48. 85.]\n",
            "   [93.  1. 10. 12.]\n",
            "   [84. 27. 21. 94.]\n",
            "   [62. 17. 35. 35.]]]\n",
            "\n",
            "\n",
            " [[[75. 38. 52. 99.]\n",
            "   [14. 16. 87. 26.]\n",
            "   [18. 82. 27. 31.]\n",
            "   [97. 49. 26. 90.]]]]\n",
            "==============================\n",
            "============= col ==============\n",
            " [[41. 95. 93.  1. 95. 48.  1. 10. 48.]\n",
            " [85. 10. 12. 93.  1. 84. 27.  1. 10.]\n",
            " [27. 21. 10. 12. 21. 94. 84. 27. 62.]\n",
            " [17. 27. 21. 17. 35. 21. 94. 35. 35.]\n",
            " [75. 38. 14. 16. 38. 52. 16. 87. 52.]\n",
            " [99. 87. 26. 14. 16. 18. 82. 16. 87.]\n",
            " [82. 27. 87. 26. 27. 31. 18. 82. 97.]\n",
            " [49. 82. 27. 49. 26. 27. 31. 26. 90.]]\n",
            "==============================\n"
          ],
          "name": "stdout"
        }
      ]
    },
    {
      "cell_type": "markdown",
      "metadata": {
        "id": "9tXfBwNvBH9F",
        "colab_type": "text"
      },
      "source": [
        "## [try2] im2colの処理を確認しよう\n",
        "・input_dataの各次元のサイズやフィルターサイズ・ストライド・パディングを変えてみよう\n"
      ]
    },
    {
      "cell_type": "code",
      "metadata": {
        "id": "WNzhg3TtBoGE",
        "colab_type": "code",
        "colab": {}
      },
      "source": [
        "import pickle\n",
        "import numpy as np\n",
        "from collections import OrderedDict\n",
        "from common import layers\n",
        "from common import optimizer\n",
        "from data.mnist import load_mnist\n",
        "import matplotlib.pyplot as plt\n",
        "\n",
        "# 画像データを２次元配列に変換\n",
        "'''\n",
        "input_data: 入力値\n",
        "filter_h: フィルターの高さ\n",
        "filter_w: フィルターの横幅\n",
        "stride: ストライド\n",
        "pad: パディング\n",
        "'''\n",
        "def im2col(input_data, filter_h, filter_w, stride=1, pad=0):\n",
        "    # N: number, C: channel, H: height, W: width\n",
        "    N, C, H, W = input_data.shape\n",
        "    out_h = (H + 2 * pad - filter_h)//stride + 1\n",
        "    out_w = (W + 2 * pad - filter_w)//stride + 1\n",
        "\n",
        "    img = np.pad(input_data, [(0,0), (0,0), (pad, pad), (pad, pad)], 'constant')\n",
        "    col = np.zeros((N, C, filter_h, filter_w, out_h, out_w))\n",
        "\n",
        "    for y in range(filter_h):\n",
        "        y_max = y + stride * out_h\n",
        "        for x in range(filter_w):\n",
        "            x_max = x + stride * out_w\n",
        "            col[:, :, y, x, :, :] = img[:, :, y:y_max:stride, x:x_max:stride]\n",
        "    \n",
        "    col = col.transpose(0, 4, 5, 1, 2, 3) # (N, C, filter_h, filter_w, out_h, out_w) -> (N, filter_w, out_h, out_w, C, filter_h)    \n",
        "    \n",
        "    col = col.reshape(N * out_h * out_w, -1)\n",
        "    return col"
      ],
      "execution_count": 0,
      "outputs": []
    },
    {
      "cell_type": "code",
      "metadata": {
        "id": "jn_OwVG-BsiT",
        "colab_type": "code",
        "colab": {
          "base_uri": "https://localhost:8080/",
          "height": 391
        },
        "outputId": "28d887c4-8e72-4a57-b528-abd206d87a2d"
      },
      "source": [
        "# im2colの処理確認\n",
        "input_data = np.random.rand(2, 1, 4, 4)*100//1 # number, channel, height, widthを表す\n",
        "print('========== input_data ===========\\n', input_data)\n",
        "print('==============================')\n",
        "filter_h = 2\n",
        "filter_w = 2\n",
        "stride = 2\n",
        "pad = 0\n",
        "col = im2col(input_data, filter_h=filter_h, filter_w=filter_w, stride=stride, pad=pad)\n",
        "print('============= col ==============\\n', col)\n",
        "print('==============================')"
      ],
      "execution_count": 28,
      "outputs": [
        {
          "output_type": "stream",
          "text": [
            "========== input_data ===========\n",
            " [[[[38.  1. 92. 39.]\n",
            "   [31. 42. 72. 54.]\n",
            "   [88. 44. 82. 18.]\n",
            "   [40. 44.  0. 23.]]]\n",
            "\n",
            "\n",
            " [[[47. 36. 34. 19.]\n",
            "   [91. 85. 32. 65.]\n",
            "   [77. 36. 52. 66.]\n",
            "   [20.  5. 67. 75.]]]]\n",
            "==============================\n",
            "============= col ==============\n",
            " [[38.  1. 31. 42.]\n",
            " [92. 39. 72. 54.]\n",
            " [88. 44. 40. 44.]\n",
            " [82. 18.  0. 23.]\n",
            " [47. 36. 91. 85.]\n",
            " [34. 19. 32. 65.]\n",
            " [77. 36. 20.  5.]\n",
            " [52. 66. 67. 75.]]\n",
            "==============================\n"
          ],
          "name": "stdout"
        }
      ]
    },
    {
      "cell_type": "markdown",
      "metadata": {
        "id": "azeUAMll41ai",
        "colab_type": "text"
      },
      "source": [
        "## column to image"
      ]
    },
    {
      "cell_type": "code",
      "metadata": {
        "id": "sEg1ZgGH41aj",
        "colab_type": "code",
        "colab": {}
      },
      "source": [
        "# ２次元配列を画像データに変換\n",
        "def col2im(col, input_shape, filter_h, filter_w, stride=1, pad=0):\n",
        "    # N: number, C: channel, H: height, W: width\n",
        "    N, C, H, W = input_shape\n",
        "    # 切り捨て除算    \n",
        "    out_h = (H + 2 * pad - filter_h)//stride + 1\n",
        "    out_w = (W + 2 * pad - filter_w)//stride + 1\n",
        "    col = col.reshape(N, out_h, out_w, C, filter_h, filter_w).transpose(0, 3, 4, 5, 1, 2) # (N, filter_h, filter_w, out_h, out_w, C)\n",
        "\n",
        "    img = np.zeros((N, C, H + 2 * pad + stride - 1, W + 2 * pad + stride - 1))\n",
        "    for y in range(filter_h):\n",
        "        y_max = y + stride * out_h\n",
        "        for x in range(filter_w):\n",
        "            x_max = x + stride * out_w\n",
        "            img[:, :, y:y_max:stride, x:x_max:stride] += col[:, :, y, x, :, :]\n",
        "\n",
        "    return img[:, :, pad:H + pad, pad:W + pad]"
      ],
      "execution_count": 0,
      "outputs": []
    },
    {
      "cell_type": "markdown",
      "metadata": {
        "id": "WxIB8_ij41al",
        "colab_type": "text"
      },
      "source": [
        "## col2imの処理を確認しよう\n",
        "・im2colの確認で出力したcolをimageに変換して確認しよう"
      ]
    },
    {
      "cell_type": "code",
      "metadata": {
        "id": "oWlAPpX_41am",
        "colab_type": "code",
        "colab": {
          "base_uri": "https://localhost:8080/",
          "height": 187
        },
        "outputId": "3343c608-89ca-4559-c908-dedfde8dbbeb"
      },
      "source": [
        "img = col2im(col, input_shape=input_data.shape, filter_h=filter_h, filter_w=filter_w, stride=stride, pad=pad)\n",
        "print(img)"
      ],
      "execution_count": 30,
      "outputs": [
        {
          "output_type": "stream",
          "text": [
            "[[[[38.  1. 92. 39.]\n",
            "   [31. 42. 72. 54.]\n",
            "   [88. 44. 82. 18.]\n",
            "   [40. 44.  0. 23.]]]\n",
            "\n",
            "\n",
            " [[[47. 36. 34. 19.]\n",
            "   [91. 85. 32. 65.]\n",
            "   [77. 36. 52. 66.]\n",
            "   [20.  5. 67. 75.]]]]\n"
          ],
          "name": "stdout"
        }
      ]
    },
    {
      "cell_type": "markdown",
      "metadata": {
        "id": "c6A1wrTW41ao",
        "colab_type": "text"
      },
      "source": [
        "## convolution class"
      ]
    },
    {
      "cell_type": "code",
      "metadata": {
        "id": "V48pgjoe41ap",
        "colab_type": "code",
        "colab": {}
      },
      "source": [
        "class Convolution:\n",
        "    # W: フィルター, b: バイアス\n",
        "    def __init__(self, W, b, stride=1, pad=0):\n",
        "        self.W = W\n",
        "        self.b = b\n",
        "        self.stride = stride\n",
        "        self.pad = pad\n",
        "        \n",
        "        # 中間データ（backward時に使用）\n",
        "        self.x = None   \n",
        "        self.col = None\n",
        "        self.col_W = None\n",
        "        \n",
        "        # フィルター・バイアスパラメータの勾配\n",
        "        self.dW = None\n",
        "        self.db = None\n",
        "\n",
        "    def forward(self, x):\n",
        "        # FN: filter_number, C: channel, FH: filter_height, FW: filter_width\n",
        "        FN, C, FH, FW = self.W.shape\n",
        "        N, C, H, W = x.shape\n",
        "        # 出力値のheight, width\n",
        "        out_h = 1 + int((H + 2 * self.pad - FH) / self.stride)\n",
        "        out_w = 1 + int((W + 2 * self.pad - FW) / self.stride)\n",
        "        \n",
        "        # xを行列に変換\n",
        "        col = im2col(x, FH, FW, self.stride, self.pad)\n",
        "        # フィルターをxに合わせた行列に変換\n",
        "        col_W = self.W.reshape(FN, -1).T\n",
        "\n",
        "        out = np.dot(col, col_W) + self.b\n",
        "        # 計算のために変えた形式を戻す\n",
        "        out = out.reshape(N, out_h, out_w, -1).transpose(0, 3, 1, 2)\n",
        "\n",
        "        self.x = x\n",
        "        self.col = col\n",
        "        self.col_W = col_W\n",
        "\n",
        "        return out\n",
        "\n",
        "    def backward(self, dout):\n",
        "        FN, C, FH, FW = self.W.shape\n",
        "        dout = dout.transpose(0, 2, 3, 1).reshape(-1, FN)\n",
        "\n",
        "        self.db = np.sum(dout, axis=0)\n",
        "        self.dW = np.dot(self.col.T, dout)\n",
        "        self.dW = self.dW.transpose(1, 0).reshape(FN, C, FH, FW)\n",
        "\n",
        "        dcol = np.dot(dout, self.col_W.T)\n",
        "        # dcolを画像データに変換\n",
        "        dx = col2im(dcol, self.x.shape, FH, FW, self.stride, self.pad)\n",
        "\n",
        "        return dx\n"
      ],
      "execution_count": 0,
      "outputs": []
    },
    {
      "cell_type": "markdown",
      "metadata": {
        "id": "ajeATc1r41ar",
        "colab_type": "text"
      },
      "source": [
        "## pooling class"
      ]
    },
    {
      "cell_type": "code",
      "metadata": {
        "id": "ohjf8L6d41as",
        "colab_type": "code",
        "colab": {}
      },
      "source": [
        "class Pooling:\n",
        "    def __init__(self, pool_h, pool_w, stride=1, pad=0):\n",
        "        self.pool_h = pool_h\n",
        "        self.pool_w = pool_w\n",
        "        self.stride = stride\n",
        "        self.pad = pad\n",
        "        \n",
        "        self.x = None\n",
        "        self.arg_max = None\n",
        "\n",
        "    def forward(self, x):\n",
        "        N, C, H, W = x.shape\n",
        "        out_h = int(1 + (H - self.pool_h) / self.stride)\n",
        "        out_w = int(1 + (W - self.pool_w) / self.stride)\n",
        "        \n",
        "        # xを行列に変換\n",
        "        col = im2col(x, self.pool_h, self.pool_w, self.stride, self.pad)\n",
        "        # プーリングのサイズに合わせてリサイズ\n",
        "        col = col.reshape(-1, self.pool_h*self.pool_w)\n",
        "        \n",
        "        # 行ごとに最大値を求める\n",
        "        arg_max = np.argmax(col, axis=1)\n",
        "        out = np.max(col, axis=1)\n",
        "        # 整形\n",
        "        out = out.reshape(N, out_h, out_w, C).transpose(0, 3, 1, 2)\n",
        "\n",
        "        self.x = x\n",
        "        self.arg_max = arg_max\n",
        "\n",
        "        return out\n",
        "\n",
        "    def backward(self, dout):\n",
        "        dout = dout.transpose(0, 2, 3, 1)\n",
        "        \n",
        "        pool_size = self.pool_h * self.pool_w\n",
        "        dmax = np.zeros((dout.size, pool_size))\n",
        "        dmax[np.arange(self.arg_max.size), self.arg_max.flatten()] = dout.flatten()\n",
        "        dmax = dmax.reshape(dout.shape + (pool_size,)) \n",
        "        \n",
        "        dcol = dmax.reshape(dmax.shape[0] * dmax.shape[1] * dmax.shape[2], -1)\n",
        "        dx = col2im(dcol, self.x.shape, self.pool_h, self.pool_w, self.stride, self.pad)\n",
        "        \n",
        "        return dx\n"
      ],
      "execution_count": 0,
      "outputs": []
    },
    {
      "cell_type": "markdown",
      "metadata": {
        "id": "R_4EiODW41av",
        "colab_type": "text"
      },
      "source": [
        "## sinple convolution network class"
      ]
    },
    {
      "cell_type": "code",
      "metadata": {
        "id": "Bjvis0sV41aw",
        "colab_type": "code",
        "colab": {}
      },
      "source": [
        "class SimpleConvNet:\n",
        "    # conv - relu - pool - affine - relu - affine - softmax\n",
        "    def __init__(self, input_dim=(1, 28, 28), conv_param={'filter_num':30, 'filter_size':5, 'pad':0, 'stride':1},\n",
        "                 hidden_size=100, output_size=10, weight_init_std=0.01):\n",
        "        filter_num = conv_param['filter_num']        \n",
        "        filter_size = conv_param['filter_size']\n",
        "        filter_pad = conv_param['pad']\n",
        "        filter_stride = conv_param['stride']\n",
        "        input_size = input_dim[1]\n",
        "        conv_output_size = (input_size - filter_size + 2 * filter_pad) / filter_stride + 1\n",
        "        pool_output_size = int(filter_num * (conv_output_size / 2) * (conv_output_size / 2))\n",
        "\n",
        "        # 重みの初期化\n",
        "        self.params = {}\n",
        "        self.params['W1'] = weight_init_std * np.random.randn(filter_num, input_dim[0], filter_size, filter_size)\n",
        "        self.params['b1'] = np.zeros(filter_num)\n",
        "        self.params['W2'] = weight_init_std * np.random.randn(pool_output_size, hidden_size)\n",
        "        self.params['b2'] = np.zeros(hidden_size)\n",
        "        self.params['W3'] = weight_init_std * np.random.randn(hidden_size, output_size)\n",
        "        self.params['b3'] = np.zeros(output_size)\n",
        "\n",
        "        # レイヤの生成\n",
        "        self.layers = OrderedDict()\n",
        "        self.layers['Conv1'] = layers.Convolution(self.params['W1'], self.params['b1'], conv_param['stride'], conv_param['pad'])\n",
        "        self.layers['Relu1'] = layers.Relu()\n",
        "        self.layers['Pool1'] = layers.Pooling(pool_h=2, pool_w=2, stride=2)\n",
        "        self.layers['Affine1'] = layers.Affine(self.params['W2'], self.params['b2'])\n",
        "        self.layers['Relu2'] = layers.Relu()\n",
        "        self.layers['Affine2'] = layers.Affine(self.params['W3'], self.params['b3'])\n",
        "\n",
        "        self.last_layer = layers.SoftmaxWithLoss()\n",
        "\n",
        "    def predict(self, x):\n",
        "        for key in self.layers.keys():\n",
        "            x = self.layers[key].forward(x)\n",
        "        return x\n",
        "        \n",
        "    def loss(self, x, d):\n",
        "        y = self.predict(x)\n",
        "        return self.last_layer.forward(y, d)\n",
        "\n",
        "    def accuracy(self, x, d, batch_size=100):\n",
        "        if d.ndim != 1 : d = np.argmax(d, axis=1)\n",
        "        \n",
        "        acc = 0.0\n",
        "        \n",
        "        for i in range(int(x.shape[0] / batch_size)):\n",
        "            tx = x[i*batch_size:(i+1)*batch_size]\n",
        "            td = d[i*batch_size:(i+1)*batch_size]\n",
        "            y = self.predict(tx)\n",
        "            y = np.argmax(y, axis=1)\n",
        "            acc += np.sum(y == td) \n",
        "        \n",
        "        return acc / x.shape[0]\n",
        "\n",
        "    def gradient(self, x, d):\n",
        "        # forward\n",
        "        self.loss(x, d)\n",
        "        \n",
        "        # backward\n",
        "        dout = 1\n",
        "        dout = self.last_layer.backward(dout)\n",
        "        layers = list(self.layers.values())\n",
        "        \n",
        "        layers.reverse()\n",
        "        for layer in layers:\n",
        "            dout = layer.backward(dout)\n",
        "\n",
        "        # 設定\n",
        "        grad = {}\n",
        "        grad['W1'], grad['b1'] = self.layers['Conv1'].dW, self.layers['Conv1'].db\n",
        "        grad['W2'], grad['b2'] = self.layers['Affine1'].dW, self.layers['Affine1'].db\n",
        "        grad['W3'], grad['b3'] = self.layers['Affine2'].dW, self.layers['Affine2'].db\n",
        "\n",
        "        return grad"
      ],
      "execution_count": 0,
      "outputs": []
    },
    {
      "cell_type": "code",
      "metadata": {
        "id": "UontjUaA41ay",
        "colab_type": "code",
        "outputId": "e56d0646-5a06-49ac-d4fd-97abebf75e49",
        "colab": {
          "base_uri": "https://localhost:8080/",
          "height": 1000
        }
      },
      "source": [
        "from common import optimizer\n",
        "\n",
        "# データの読み込み\n",
        "(x_train, d_train), (x_test, d_test) = load_mnist(flatten=False)\n",
        "\n",
        "print(\"データ読み込み完了\")\n",
        "\n",
        "# 処理に時間のかかる場合はデータを削減 \n",
        "x_train, d_train = x_train[:5000], d_train[:5000]\n",
        "x_test, d_test = x_test[:1000], d_test[:1000]\n",
        "\n",
        "\n",
        "network = SimpleConvNet(input_dim=(1,28,28), conv_param = {'filter_num': 30, 'filter_size': 5, 'pad': 0, 'stride': 1},\n",
        "                        hidden_size=100, output_size=10, weight_init_std=0.01)\n",
        "\n",
        "optimizer = optimizer.Adam()\n",
        "\n",
        "iters_num = 1000\n",
        "train_size = x_train.shape[0]\n",
        "batch_size = 100\n",
        "\n",
        "train_loss_list = []\n",
        "accuracies_train = []\n",
        "accuracies_test = []\n",
        "\n",
        "plot_interval=10\n",
        "\n",
        "\n",
        "\n",
        "for i in range(iters_num):\n",
        "    batch_mask = np.random.choice(train_size, batch_size)\n",
        "    x_batch = x_train[batch_mask]\n",
        "    d_batch = d_train[batch_mask]\n",
        "    \n",
        "    grad = network.gradient(x_batch, d_batch)\n",
        "    optimizer.update(network.params, grad)\n",
        "\n",
        "    loss = network.loss(x_batch, d_batch)\n",
        "    train_loss_list.append(loss)\n",
        "\n",
        "    if (i+1) % plot_interval == 0:\n",
        "        accr_train = network.accuracy(x_train, d_train)\n",
        "        accr_test = network.accuracy(x_test, d_test)\n",
        "        accuracies_train.append(accr_train)\n",
        "        accuracies_test.append(accr_test)\n",
        "        \n",
        "        print('Generation: ' + str(i+1) + '. 正答率(トレーニング) = ' + str(accr_train))\n",
        "        print('                : ' + str(i+1) + '. 正答率(テスト) = ' + str(accr_test))               \n",
        "\n",
        "lists = range(0, iters_num, plot_interval)\n",
        "plt.plot(lists, accuracies_train, label=\"training set\")\n",
        "plt.plot(lists, accuracies_test,  label=\"test set\")\n",
        "plt.legend(loc=\"lower right\")\n",
        "plt.title(\"accuracy\")\n",
        "plt.xlabel(\"count\")\n",
        "plt.ylabel(\"accuracy\")\n",
        "plt.ylim(0, 1.0)\n",
        "# グラフの表示\n",
        "plt.show()"
      ],
      "execution_count": 34,
      "outputs": [
        {
          "output_type": "stream",
          "text": [
            "データ読み込み完了\n",
            "Generation: 10. 正答率(トレーニング) = 0.2724\n",
            "                : 10. 正答率(テスト) = 0.309\n",
            "Generation: 20. 正答率(トレーニング) = 0.593\n",
            "                : 20. 正答率(テスト) = 0.579\n",
            "Generation: 30. 正答率(トレーニング) = 0.721\n",
            "                : 30. 正答率(テスト) = 0.717\n",
            "Generation: 40. 正答率(トレーニング) = 0.7976\n",
            "                : 40. 正答率(テスト) = 0.783\n",
            "Generation: 50. 正答率(トレーニング) = 0.8152\n",
            "                : 50. 正答率(テスト) = 0.785\n",
            "Generation: 60. 正答率(トレーニング) = 0.8624\n",
            "                : 60. 正答率(テスト) = 0.839\n",
            "Generation: 70. 正答率(トレーニング) = 0.8836\n",
            "                : 70. 正答率(テスト) = 0.845\n",
            "Generation: 80. 正答率(トレーニング) = 0.8918\n",
            "                : 80. 正答率(テスト) = 0.844\n",
            "Generation: 90. 正答率(トレーニング) = 0.9004\n",
            "                : 90. 正答率(テスト) = 0.859\n",
            "Generation: 100. 正答率(トレーニング) = 0.8998\n",
            "                : 100. 正答率(テスト) = 0.864\n",
            "Generation: 110. 正答率(トレーニング) = 0.9074\n",
            "                : 110. 正答率(テスト) = 0.881\n",
            "Generation: 120. 正答率(トレーニング) = 0.9052\n",
            "                : 120. 正答率(テスト) = 0.861\n",
            "Generation: 130. 正答率(トレーニング) = 0.915\n",
            "                : 130. 正答率(テスト) = 0.9\n",
            "Generation: 140. 正答率(トレーニング) = 0.9106\n",
            "                : 140. 正答率(テスト) = 0.878\n",
            "Generation: 150. 正答率(トレーニング) = 0.9166\n",
            "                : 150. 正答率(テスト) = 0.893\n",
            "Generation: 160. 正答率(トレーニング) = 0.9184\n",
            "                : 160. 正答率(テスト) = 0.893\n",
            "Generation: 170. 正答率(トレーニング) = 0.9236\n",
            "                : 170. 正答率(テスト) = 0.895\n",
            "Generation: 180. 正答率(トレーニング) = 0.9278\n",
            "                : 180. 正答率(テスト) = 0.9\n",
            "Generation: 190. 正答率(トレーニング) = 0.9268\n",
            "                : 190. 正答率(テスト) = 0.898\n",
            "Generation: 200. 正答率(トレーニング) = 0.9356\n",
            "                : 200. 正答率(テスト) = 0.915\n",
            "Generation: 210. 正答率(トレーニング) = 0.9352\n",
            "                : 210. 正答率(テスト) = 0.914\n",
            "Generation: 220. 正答率(トレーニング) = 0.939\n",
            "                : 220. 正答率(テスト) = 0.908\n",
            "Generation: 230. 正答率(トレーニング) = 0.9404\n",
            "                : 230. 正答率(テスト) = 0.912\n",
            "Generation: 240. 正答率(トレーニング) = 0.9374\n",
            "                : 240. 正答率(テスト) = 0.913\n",
            "Generation: 250. 正答率(トレーニング) = 0.9446\n",
            "                : 250. 正答率(テスト) = 0.919\n",
            "Generation: 260. 正答率(トレーニング) = 0.9506\n",
            "                : 260. 正答率(テスト) = 0.923\n",
            "Generation: 270. 正答率(トレーニング) = 0.9542\n",
            "                : 270. 正答率(テスト) = 0.932\n",
            "Generation: 280. 正答率(トレーニング) = 0.958\n",
            "                : 280. 正答率(テスト) = 0.934\n",
            "Generation: 290. 正答率(トレーニング) = 0.9524\n",
            "                : 290. 正答率(テスト) = 0.92\n",
            "Generation: 300. 正答率(トレーニング) = 0.9556\n",
            "                : 300. 正答率(テスト) = 0.932\n",
            "Generation: 310. 正答率(トレーニング) = 0.9566\n",
            "                : 310. 正答率(テスト) = 0.927\n",
            "Generation: 320. 正答率(トレーニング) = 0.9536\n",
            "                : 320. 正答率(テスト) = 0.923\n",
            "Generation: 330. 正答率(トレーニング) = 0.9592\n",
            "                : 330. 正答率(テスト) = 0.921\n",
            "Generation: 340. 正答率(トレーニング) = 0.9662\n",
            "                : 340. 正答率(テスト) = 0.94\n",
            "Generation: 350. 正答率(トレーニング) = 0.968\n",
            "                : 350. 正答率(テスト) = 0.937\n",
            "Generation: 360. 正答率(トレーニング) = 0.9694\n",
            "                : 360. 正答率(テスト) = 0.948\n",
            "Generation: 370. 正答率(トレーニング) = 0.9682\n",
            "                : 370. 正答率(テスト) = 0.939\n",
            "Generation: 380. 正答率(トレーニング) = 0.9688\n",
            "                : 380. 正答率(テスト) = 0.942\n",
            "Generation: 390. 正答率(トレーニング) = 0.9734\n",
            "                : 390. 正答率(テスト) = 0.947\n",
            "Generation: 400. 正答率(トレーニング) = 0.9694\n",
            "                : 400. 正答率(テスト) = 0.941\n",
            "Generation: 410. 正答率(トレーニング) = 0.9704\n",
            "                : 410. 正答率(テスト) = 0.939\n",
            "Generation: 420. 正答率(トレーニング) = 0.9698\n",
            "                : 420. 正答率(テスト) = 0.948\n",
            "Generation: 430. 正答率(トレーニング) = 0.972\n",
            "                : 430. 正答率(テスト) = 0.953\n",
            "Generation: 440. 正答率(トレーニング) = 0.9768\n",
            "                : 440. 正答率(テスト) = 0.952\n",
            "Generation: 450. 正答率(トレーニング) = 0.976\n",
            "                : 450. 正答率(テスト) = 0.956\n",
            "Generation: 460. 正答率(トレーニング) = 0.979\n",
            "                : 460. 正答率(テスト) = 0.948\n",
            "Generation: 470. 正答率(トレーニング) = 0.9778\n",
            "                : 470. 正答率(テスト) = 0.948\n",
            "Generation: 480. 正答率(トレーニング) = 0.9778\n",
            "                : 480. 正答率(テスト) = 0.946\n",
            "Generation: 490. 正答率(トレーニング) = 0.9786\n",
            "                : 490. 正答率(テスト) = 0.949\n",
            "Generation: 500. 正答率(トレーニング) = 0.974\n",
            "                : 500. 正答率(テスト) = 0.948\n",
            "Generation: 510. 正答率(トレーニング) = 0.9794\n",
            "                : 510. 正答率(テスト) = 0.949\n",
            "Generation: 520. 正答率(トレーニング) = 0.9814\n",
            "                : 520. 正答率(テスト) = 0.953\n",
            "Generation: 530. 正答率(トレーニング) = 0.9778\n",
            "                : 530. 正答率(テスト) = 0.951\n",
            "Generation: 540. 正答率(トレーニング) = 0.9806\n",
            "                : 540. 正答率(テスト) = 0.949\n",
            "Generation: 550. 正答率(トレーニング) = 0.983\n",
            "                : 550. 正答率(テスト) = 0.955\n",
            "Generation: 560. 正答率(トレーニング) = 0.9822\n",
            "                : 560. 正答率(テスト) = 0.957\n",
            "Generation: 570. 正答率(トレーニング) = 0.9844\n",
            "                : 570. 正答率(テスト) = 0.96\n",
            "Generation: 580. 正答率(トレーニング) = 0.984\n",
            "                : 580. 正答率(テスト) = 0.959\n",
            "Generation: 590. 正答率(トレーニング) = 0.9854\n",
            "                : 590. 正答率(テスト) = 0.963\n",
            "Generation: 600. 正答率(トレーニング) = 0.9866\n",
            "                : 600. 正答率(テスト) = 0.957\n",
            "Generation: 610. 正答率(トレーニング) = 0.988\n",
            "                : 610. 正答率(テスト) = 0.963\n",
            "Generation: 620. 正答率(トレーニング) = 0.9892\n",
            "                : 620. 正答率(テスト) = 0.961\n",
            "Generation: 630. 正答率(トレーニング) = 0.9902\n",
            "                : 630. 正答率(テスト) = 0.966\n",
            "Generation: 640. 正答率(トレーニング) = 0.9864\n",
            "                : 640. 正答率(テスト) = 0.96\n",
            "Generation: 650. 正答率(トレーニング) = 0.9862\n",
            "                : 650. 正答率(テスト) = 0.958\n",
            "Generation: 660. 正答率(トレーニング) = 0.9884\n",
            "                : 660. 正答率(テスト) = 0.961\n",
            "Generation: 670. 正答率(トレーニング) = 0.99\n",
            "                : 670. 正答率(テスト) = 0.96\n",
            "Generation: 680. 正答率(トレーニング) = 0.9892\n",
            "                : 680. 正答率(テスト) = 0.962\n",
            "Generation: 690. 正答率(トレーニング) = 0.99\n",
            "                : 690. 正答率(テスト) = 0.957\n",
            "Generation: 700. 正答率(トレーニング) = 0.99\n",
            "                : 700. 正答率(テスト) = 0.961\n",
            "Generation: 710. 正答率(トレーニング) = 0.9906\n",
            "                : 710. 正答率(テスト) = 0.96\n",
            "Generation: 720. 正答率(トレーニング) = 0.99\n",
            "                : 720. 正答率(テスト) = 0.959\n",
            "Generation: 730. 正答率(トレーニング) = 0.992\n",
            "                : 730. 正答率(テスト) = 0.962\n",
            "Generation: 740. 正答率(トレーニング) = 0.9906\n",
            "                : 740. 正答率(テスト) = 0.96\n",
            "Generation: 750. 正答率(トレーニング) = 0.9928\n",
            "                : 750. 正答率(テスト) = 0.961\n",
            "Generation: 760. 正答率(トレーニング) = 0.9934\n",
            "                : 760. 正答率(テスト) = 0.965\n",
            "Generation: 770. 正答率(トレーニング) = 0.991\n",
            "                : 770. 正答率(テスト) = 0.96\n",
            "Generation: 780. 正答率(トレーニング) = 0.9918\n",
            "                : 780. 正答率(テスト) = 0.962\n",
            "Generation: 790. 正答率(トレーニング) = 0.9926\n",
            "                : 790. 正答率(テスト) = 0.958\n",
            "Generation: 800. 正答率(トレーニング) = 0.991\n",
            "                : 800. 正答率(テスト) = 0.958\n",
            "Generation: 810. 正答率(トレーニング) = 0.9938\n",
            "                : 810. 正答率(テスト) = 0.962\n",
            "Generation: 820. 正答率(トレーニング) = 0.9948\n",
            "                : 820. 正答率(テスト) = 0.96\n",
            "Generation: 830. 正答率(トレーニング) = 0.9944\n",
            "                : 830. 正答率(テスト) = 0.963\n",
            "Generation: 840. 正答率(トレーニング) = 0.994\n",
            "                : 840. 正答率(テスト) = 0.96\n",
            "Generation: 850. 正答率(トレーニング) = 0.9956\n",
            "                : 850. 正答率(テスト) = 0.961\n",
            "Generation: 860. 正答率(トレーニング) = 0.9952\n",
            "                : 860. 正答率(テスト) = 0.963\n",
            "Generation: 870. 正答率(トレーニング) = 0.9922\n",
            "                : 870. 正答率(テスト) = 0.958\n",
            "Generation: 880. 正答率(トレーニング) = 0.995\n",
            "                : 880. 正答率(テスト) = 0.959\n",
            "Generation: 890. 正答率(トレーニング) = 0.9966\n",
            "                : 890. 正答率(テスト) = 0.958\n",
            "Generation: 900. 正答率(トレーニング) = 0.9962\n",
            "                : 900. 正答率(テスト) = 0.96\n",
            "Generation: 910. 正答率(トレーニング) = 0.9948\n",
            "                : 910. 正答率(テスト) = 0.963\n",
            "Generation: 920. 正答率(トレーニング) = 0.997\n",
            "                : 920. 正答率(テスト) = 0.966\n",
            "Generation: 930. 正答率(トレーニング) = 0.9954\n",
            "                : 930. 正答率(テスト) = 0.963\n",
            "Generation: 940. 正答率(トレーニング) = 0.9972\n",
            "                : 940. 正答率(テスト) = 0.966\n",
            "Generation: 950. 正答率(トレーニング) = 0.9972\n",
            "                : 950. 正答率(テスト) = 0.968\n",
            "Generation: 960. 正答率(トレーニング) = 0.9974\n",
            "                : 960. 正答率(テスト) = 0.963\n",
            "Generation: 970. 正答率(トレーニング) = 0.9954\n",
            "                : 970. 正答率(テスト) = 0.963\n",
            "Generation: 980. 正答率(トレーニング) = 0.9974\n",
            "                : 980. 正答率(テスト) = 0.968\n",
            "Generation: 990. 正答率(トレーニング) = 0.9964\n",
            "                : 990. 正答率(テスト) = 0.962\n",
            "Generation: 1000. 正答率(トレーニング) = 0.9978\n",
            "                : 1000. 正答率(テスト) = 0.965\n"
          ],
          "name": "stdout"
        },
        {
          "output_type": "display_data",
          "data": {
            "image/png": "[encoded data removed]",
            "text/plain": [
              "<Figure size 432x288 with 1 Axes>"
            ]
          },
          "metadata": {
            "tags": []
          }
        }
      ]
    }
  ]
}